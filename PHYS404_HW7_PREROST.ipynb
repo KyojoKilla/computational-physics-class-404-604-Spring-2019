{
 "cells": [
  {
   "cell_type": "code",
   "execution_count": 1,
   "metadata": {},
   "outputs": [],
   "source": [
    "# Homework:\n",
    "# Write your own leapfrog scheme to calculate the orbit of two equal mass binary.\n",
    "# The mass of each binary makes GM_{i}=1, (i is 1 or 2). The two binary stars are\n",
    "# seperated by a distance of 1 initially. Initialize the binary velocity so that\n",
    "# each binary star will have an eccentricity of 0.5. Evolve this system to 100\n",
    "# binary orbits, and plot their orbits in the x-y plane. (Hint: both stars will drift\n",
    "# together first, and then being kicked at the middle step at the same time, \n",
    "# and then drfit again)\n",
    "\n",
    "# So we have y[0]=x, y[1]=v_{x}, y[2]=y, y[3]=v_{y}\n",
    "\n",
    "#Kyle Prerost\n",
    "#PHYS 404\n",
    "#HW 7\n",
    "#February 24th, 2019"
   ]
  },
  {
   "cell_type": "code",
   "execution_count": 6,
   "metadata": {},
   "outputs": [
    {
     "data": {
      "image/png": "[encoded data removed]",
      "text/plain": [
       "<Figure size 432x288 with 1 Axes>"
      ]
     },
     "metadata": {
      "needs_background": "light"
     },
     "output_type": "display_data"
    }
   ],
   "source": [
    "import numpy as np\n",
    "import matplotlib.pyplot as plt\n",
    "\n",
    "G=1\n",
    "M=1.\n",
    "tend=4.*np.pi*50.\n",
    "h=0.01\n",
    "#y1=[-1.,-0.5,-1.,1.]\n",
    "#y2=[1.,0.5,1.,1.]\n",
    "y1=[0.,0.,0.,.5]\n",
    "y2=[1.,0.,0.,-.5]\n",
    "t=0\n",
    "\n",
    "def f(t, y1, y2):\n",
    "    f=np.zeros(4)\n",
    "    r=np.sqrt((y1[0]-y2[0])**2+(y1[2]-y2[2])**2)\n",
    "    f[0]=y1[1]\n",
    "    f[1]=-G*M/r/r/r*(y1[0]-y2[0])\n",
    "    f[2]=y1[3]\n",
    "    f[3]=-G*M/r/r/r*(y1[2]-y2[2])\n",
    "    return f\n",
    "    \n",
    "def lf(t, h, y1, y2, n):\n",
    "    fv1=f(t, y1, y2)\n",
    "    fv2=f(t, y2, y1)\n",
    "    for i in [0,2]:\n",
    "        y1[i]+=fv1[i]*h/2.\n",
    "        y2[i]+=fv2[i]*h/2.\n",
    "        \n",
    "    fv1=f(t, y1, y2)\n",
    "    fv2=f(t, y2, y1)\n",
    "    for i in [1,3]:\n",
    "        y1[i]+=fv1[i]*h\n",
    "        y2[i]+=fv2[i]*h\n",
    "        \n",
    "    fv1=f(t, y1, y2)\n",
    "    fv2=f(t, y2, y1)\n",
    "    for i in [0,2]:\n",
    "        y1[i]+=fv1[i]*h/2.\n",
    "        y2[i]+=fv2[i]*h/2.    \n",
    "    return 0\n",
    "\n",
    "xp1=[]\n",
    "yp1=[]\n",
    "xp2=[]\n",
    "yp2=[]\n",
    "ta=[]\n",
    "while(t<tend):\n",
    "    if((t+h)>tend):\n",
    "        h=tend-t\n",
    "    lf(t,h,y1,y2,8)\n",
    "    xp1=np.append(xp1,y1[0])\n",
    "    yp1=np.append(yp1,y1[2])\n",
    "    xp2=np.append(xp2,y2[0])\n",
    "    yp2=np.append(yp2,y2[2])\n",
    "    ta=np.append(ta,t)\n",
    "    t = t+h\n",
    "\n",
    "plt.plot(xp1,yp1)\n",
    "plt.plot(xp2,yp2)\n",
    "plt.show()"
   ]
  },
  {
   "cell_type": "code",
   "execution_count": null,
   "metadata": {},
   "outputs": [],
   "source": []
  }
 ],
 "metadata": {
  "kernelspec": {
   "display_name": "Python 3",
   "language": "python",
   "name": "python3"
  },
  "language_info": {
   "codemirror_mode": {
    "name": "ipython",
    "version": 3
   },
   "file_extension": ".py",
   "mimetype": "text/x-python",
   "name": "python",
   "nbconvert_exporter": "python",
   "pygments_lexer": "ipython3",
   "version": "3.7.1"
  }
 },
 "nbformat": 4,
 "nbformat_minor": 2
}
