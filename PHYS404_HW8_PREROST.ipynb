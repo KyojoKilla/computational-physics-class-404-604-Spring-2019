{
 "cells": [
  {
   "cell_type": "code",
   "execution_count": 1,
   "metadata": {},
   "outputs": [],
   "source": [
    "#Kyle Prerost\n",
    "#PHYS 404\n",
    "#HW 8\n",
    "#March 3rd, 2019\n",
    "\n",
    "import numpy as np\n",
    "import matplotlib.pyplot as plt"
   ]
  },
  {
   "cell_type": "code",
   "execution_count": 23,
   "metadata": {},
   "outputs": [
    {
     "name": "stdout",
     "output_type": "stream",
     "text": [
      "iter  0  shoot point 0.800031091128971 targety 1.0 vy 1.5\n",
      "iter  1  shoot point 1.2000466366934563 targety 1.0 vy 2.25\n",
      "iter  2  shoot point 1.0000388639112139 targety 1.0 vy 1.875\n",
      "iter  3  shoot point 0.9000349775200924 targety 1.0 vy 1.6875\n",
      "iter  4  shoot point 0.9500369207156527 targety 1.0 vy 1.78125\n",
      "iter  5  shoot point 0.9750378923134341 targety 1.0 vy 1.828125\n",
      "iter  6  shoot point 0.9875383781123239 targety 1.0 vy 1.8515625\n",
      "iter  7  shoot point 0.993788621011769 targety 1.0 vy 1.86328125\n",
      "iter  8  shoot point 0.9969137424614916 targety 1.0 vy 1.869140625\n",
      "iter  9  shoot point 0.9984763031863524 targety 1.0 vy 1.8720703125\n",
      "iter  10  shoot point 0.9992575835487835 targety 1.0 vy 1.87353515625\n",
      "iter  11  shoot point 0.9996482237299987 targety 1.0 vy 1.874267578125\n",
      "iter  12  shoot point 0.9998435438206069 targety 1.0 vy 1.8746337890625\n",
      "iter  13  shoot point 0.9999412038659095 targety 1.0 vy 1.87481689453125\n",
      "vy 1.874908447265625\n"
     ]
    },
    {
     "data": {
      "image/png": "[encoded data removed]",
      "text/plain": [
       "<Figure size 432x288 with 1 Axes>"
      ]
     },
     "metadata": {
      "needs_background": "light"
     },
     "output_type": "display_data"
    }
   ],
   "source": [
    "y = [0.,0.]\n",
    "xend = 1.\n",
    "h=.01\n",
    "targety = 1.\n",
    "\n",
    "def f(x, y):\n",
    "    f=np.zeros(2)\n",
    "    f[0]=y[1]\n",
    "    f[1]=(2*x*y[1]-30*y[0])/(1-x*x)\n",
    "    return f\n",
    "    \n",
    "def rk4(x, h, y, n):\n",
    "    k1 = np.zeros(n)\n",
    "    k2 = np.zeros(n)\n",
    "    k3 = np.zeros(n)\n",
    "    k4 = np.zeros(n)\n",
    "    k1=h*f(x,y)\n",
    "    k2=h*f(x+0.5*h,y+0.5*k1)\n",
    "    k3=h*f(x+0.5*h,y+0.5*k2)\n",
    "    k4=h*f(x+h,y+k3)\n",
    "    y+=(k1+2.*(k2+k3)+k4)/6.\n",
    "    return y\n",
    "\n",
    "xp=[]\n",
    "yp=[]\n",
    "vymin=0.\n",
    "vymax=3.\n",
    "maxiter=100\n",
    "for iter in range(maxiter):\n",
    "    xp=[]\n",
    "    yp=[]\n",
    "    vy=(vymin+vymax)/2.\n",
    "    y=[0.,vy]\n",
    "    x=0.\n",
    "    while(x<xend):\n",
    "        y = rk4(x,h,y,2)\n",
    "        xp=np.append(xp,x)\n",
    "        yp=np.append(yp,y[0])\n",
    "        x = x+h\n",
    "    if(np.abs(y[0]-targety)<0.00001):\n",
    "        break\n",
    "    if y[0]<targety:\n",
    "        vymin = vy\n",
    "    else:\n",
    "        vymax = vy\n",
    "        \n",
    "    print(\"iter \",iter, \" shoot point\",y[0],\"targety\", targety, \"vy\", vy)\n",
    " \n",
    "print(\"vy\", vy)\n",
    "plt.show()\n",
    "plt.plot(xp,yp)\n",
    "plt.show()"
   ]
  },
  {
   "cell_type": "code",
   "execution_count": 24,
   "metadata": {},
   "outputs": [],
   "source": [
    "#this looks exactly like P5(x) for Legendre Polynomials so I believe it is correct"
   ]
  },
  {
   "cell_type": "code",
   "execution_count": 26,
   "metadata": {},
   "outputs": [
    {
     "name": "stdout",
     "output_type": "stream",
     "text": [
      "iter  0  shoot point -46924.92365616518 targety 1.0 vy 1.0\n",
      "iter  1  shoot point -187699.6946246607 targety 1.0 vy 4.0\n",
      "iter  2  shoot point -259295.3222479155 targety 1.0 vy 5.5\n",
      "iter  3  shoot point -293811.5906973695 targety 1.0 vy 6.25\n",
      "iter  4  shoot point -312746.1072710831 targety 1.0 vy 6.625\n",
      "iter  5  shoot point -320735.69781354285 targety 1.0 vy 6.8125\n",
      "iter  6  shoot point -324628.6557775301 targety 1.0 vy 6.90625\n",
      "iter  7  shoot point -327647.2038666782 targety 1.0 vy 6.953125\n",
      "iter  8  shoot point -328956.3269237064 targety 1.0 vy 6.9765625\n",
      "iter  9  shoot point -329380.38265298365 targety 1.0 vy 6.98828125\n",
      "iter  10  shoot point -328981.9028742916 targety 1.0 vy 6.994140625\n",
      "iter  11  shoot point -330369.7875992978 targety 1.0 vy 6.9970703125\n",
      "iter  12  shoot point -328781.4408836393 targety 1.0 vy 6.99853515625\n",
      "iter  13  shoot point -329383.6561940247 targety 1.0 vy 6.999267578125\n",
      "iter  14  shoot point -330365.20538772596 targety 1.0 vy 6.9996337890625\n",
      "iter  15  shoot point -329422.0882551162 targety 1.0 vy 6.99981689453125\n",
      "iter  16  shoot point -329954.02273155155 targety 1.0 vy 6.999908447265625\n",
      "iter  17  shoot point -329484.95465718536 targety 1.0 vy 6.9999542236328125\n",
      "iter  18  shoot point -328456.07840176753 targety 1.0 vy 6.999977111816406\n",
      "iter  19  shoot point -329265.5028247295 targety 1.0 vy 6.999988555908203\n",
      "iter  20  shoot point -329635.2144233961 targety 1.0 vy 6.999994277954102\n"
     ]
    },
    {
     "ename": "KeyboardInterrupt",
     "evalue": "",
     "output_type": "error",
     "traceback": [
      "\u001b[1;31m---------------------------------------------------------------------------\u001b[0m",
      "\u001b[1;31mKeyboardInterrupt\u001b[0m                         Traceback (most recent call last)",
      "\u001b[1;32m<ipython-input-26-6f9d46d66337>\u001b[0m in \u001b[0;36m<module>\u001b[1;34m\u001b[0m\n\u001b[0;32m     35\u001b[0m     \u001b[1;32mwhile\u001b[0m\u001b[1;33m(\u001b[0m\u001b[0mx\u001b[0m\u001b[1;33m<\u001b[0m\u001b[0mxend\u001b[0m\u001b[1;33m)\u001b[0m\u001b[1;33m:\u001b[0m\u001b[1;33m\u001b[0m\u001b[1;33m\u001b[0m\u001b[0m\n\u001b[0;32m     36\u001b[0m         \u001b[0my\u001b[0m \u001b[1;33m=\u001b[0m \u001b[0mrk4\u001b[0m\u001b[1;33m(\u001b[0m\u001b[0mx\u001b[0m\u001b[1;33m,\u001b[0m\u001b[0mh\u001b[0m\u001b[1;33m,\u001b[0m\u001b[0my\u001b[0m\u001b[1;33m,\u001b[0m\u001b[1;36m2\u001b[0m\u001b[1;33m)\u001b[0m\u001b[1;33m\u001b[0m\u001b[1;33m\u001b[0m\u001b[0m\n\u001b[1;32m---> 37\u001b[1;33m         \u001b[0mxp\u001b[0m\u001b[1;33m=\u001b[0m\u001b[0mnp\u001b[0m\u001b[1;33m.\u001b[0m\u001b[0mappend\u001b[0m\u001b[1;33m(\u001b[0m\u001b[0mxp\u001b[0m\u001b[1;33m,\u001b[0m\u001b[0mx\u001b[0m\u001b[1;33m)\u001b[0m\u001b[1;33m\u001b[0m\u001b[1;33m\u001b[0m\u001b[0m\n\u001b[0m\u001b[0;32m     38\u001b[0m         \u001b[0myp\u001b[0m\u001b[1;33m=\u001b[0m\u001b[0mnp\u001b[0m\u001b[1;33m.\u001b[0m\u001b[0mappend\u001b[0m\u001b[1;33m(\u001b[0m\u001b[0myp\u001b[0m\u001b[1;33m,\u001b[0m\u001b[0my\u001b[0m\u001b[1;33m[\u001b[0m\u001b[1;36m0\u001b[0m\u001b[1;33m]\u001b[0m\u001b[1;33m)\u001b[0m\u001b[1;33m\u001b[0m\u001b[1;33m\u001b[0m\u001b[0m\n\u001b[0;32m     39\u001b[0m         \u001b[0mx\u001b[0m \u001b[1;33m=\u001b[0m \u001b[0mx\u001b[0m\u001b[1;33m+\u001b[0m\u001b[0mh\u001b[0m\u001b[1;33m\u001b[0m\u001b[1;33m\u001b[0m\u001b[0m\n",
      "\u001b[1;32mD:\\Python\\lib\\site-packages\\numpy\\lib\\function_base.py\u001b[0m in \u001b[0;36mappend\u001b[1;34m(arr, values, axis)\u001b[0m\n\u001b[0;32m   4526\u001b[0m         \u001b[0mvalues\u001b[0m \u001b[1;33m=\u001b[0m \u001b[0mravel\u001b[0m\u001b[1;33m(\u001b[0m\u001b[0mvalues\u001b[0m\u001b[1;33m)\u001b[0m\u001b[1;33m\u001b[0m\u001b[1;33m\u001b[0m\u001b[0m\n\u001b[0;32m   4527\u001b[0m         \u001b[0maxis\u001b[0m \u001b[1;33m=\u001b[0m \u001b[0marr\u001b[0m\u001b[1;33m.\u001b[0m\u001b[0mndim\u001b[0m\u001b[1;33m-\u001b[0m\u001b[1;36m1\u001b[0m\u001b[1;33m\u001b[0m\u001b[1;33m\u001b[0m\u001b[0m\n\u001b[1;32m-> 4528\u001b[1;33m     \u001b[1;32mreturn\u001b[0m \u001b[0mconcatenate\u001b[0m\u001b[1;33m(\u001b[0m\u001b[1;33m(\u001b[0m\u001b[0marr\u001b[0m\u001b[1;33m,\u001b[0m \u001b[0mvalues\u001b[0m\u001b[1;33m)\u001b[0m\u001b[1;33m,\u001b[0m \u001b[0maxis\u001b[0m\u001b[1;33m=\u001b[0m\u001b[0maxis\u001b[0m\u001b[1;33m)\u001b[0m\u001b[1;33m\u001b[0m\u001b[1;33m\u001b[0m\u001b[0m\n\u001b[0m",
      "\u001b[1;31mKeyboardInterrupt\u001b[0m: "
     ]
    }
   ],
   "source": [
    "y = [0.,0.]\n",
    "xend = 1.\n",
    "h=1.e-4\n",
    "targety = 1.\n",
    "\n",
    "def f(x, y):\n",
    "    f=np.zeros(2)\n",
    "    f[0]=y[1]\n",
    "    f[1]=(2*x*y[1]-30*y[0])/(1-x*x)\n",
    "    return f\n",
    "    \n",
    "def rk4(x, h, y, n):\n",
    "    k1 = np.zeros(n)\n",
    "    k2 = np.zeros(n)\n",
    "    k3 = np.zeros(n)\n",
    "    k4 = np.zeros(n)\n",
    "    k1=h*f(x,y)\n",
    "    k2=h*f(x+0.5*h,y+0.5*k1)\n",
    "    k3=h*f(x+0.5*h,y+0.5*k2)\n",
    "    k4=h*f(x+h,y+k3)\n",
    "    y+=(k1+2.*(k2+k3)+k4)/6.\n",
    "    return y\n",
    "\n",
    "xp=[]\n",
    "yp=[]\n",
    "vymin=-5.\n",
    "vymax=7.\n",
    "maxiter=100\n",
    "for iter in range(maxiter):\n",
    "    xp=[]\n",
    "    yp=[]\n",
    "    vy=(vymin+vymax)/2.\n",
    "    y=[0.,vy]\n",
    "    x=0.\n",
    "    while(x<xend):\n",
    "        y = rk4(x,h,y,2)\n",
    "        xp=np.append(xp,x)\n",
    "        yp=np.append(yp,y[0])\n",
    "        x = x+h\n",
    "    if(np.abs(y[0]-targety)<0.00001):\n",
    "        break\n",
    "    if y[0]<targety:\n",
    "        vymin = vy\n",
    "    else:\n",
    "        vymax = vy\n",
    "        \n",
    "    print(\"iter \",iter, \" shoot point\",y[0],\"targety\", targety, \"vy\", vy)\n",
    " \n",
    "print(\"vy\", vy)\n",
    "plt.show()\n",
    "plt.plot(xp,yp)\n",
    "plt.show()"
   ]
  },
  {
   "cell_type": "code",
   "execution_count": null,
   "metadata": {},
   "outputs": [],
   "source": [
    "#when the h=1.e-4,depsite close initial guesses, the algorithm diverges because h is too small"
   ]
  }
 ],
 "metadata": {
  "kernelspec": {
   "display_name": "Python 3",
   "language": "python",
   "name": "python3"
  },
  "language_info": {
   "codemirror_mode": {
    "name": "ipython",
    "version": 3
   },
   "file_extension": ".py",
   "mimetype": "text/x-python",
   "name": "python",
   "nbconvert_exporter": "python",
   "pygments_lexer": "ipython3",
   "version": "3.7.1"
  }
 },
 "nbformat": 4,
 "nbformat_minor": 2
}
